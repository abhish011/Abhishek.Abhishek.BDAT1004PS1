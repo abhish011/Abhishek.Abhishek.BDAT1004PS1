{
 "cells": [
  {
   "cell_type": "markdown",
   "id": "c0c874fe-6b1c-47f9-b3c6-47c5ba0011af",
   "metadata": {},
   "source": [
    "|data    |datatype                              |\n",
    "|:-----  |--------:                             |\n",
    "|5       |integer                               |\n",
    "|5.0     |float                                 |\n",
    "|5>1     |boolean                               |\n",
    "|'5'     |string                                |\n",
    "|5*2     |string                                |\n",
    "|'5'* 2  |integer                               |\n",
    "|'5'+'2' |string                                |\n",
    "|5/2     |float                                 |\n",
    "|5%2     |integer                               |\n",
    "|{5,2,1} |set                                   |\n",
    "|5==3    |boolean                               |\n",
    "|pi(num.)|float                                 |"
   ]
  },
  {
   "cell_type": "code",
   "execution_count": 44,
   "id": "ffa350ee-f215-40e4-afda-4953f862db74",
   "metadata": {},
   "outputs": [
    {
     "name": "stdout",
     "output_type": "stream",
     "text": [
      "<class 'int'>\n",
      "<class 'bool'>\n",
      "<class 'float'>\n",
      "<class 'str'>\n",
      "<class 'int'>\n",
      "<class 'str'>\n",
      "<class 'str'>\n",
      "<class 'float'>\n",
      "<class 'int'>\n",
      "<class 'set'>\n",
      "<class 'bool'>\n",
      "<class 'float'>\n"
     ]
    }
   ],
   "source": [
    "# import math\n",
    "# print(type(5))\n",
    "# print(type(5 > 1))\n",
    "# print(type(5.0))\n",
    "# print(type('5'))\n",
    "# print(type(5 *2 ))\n",
    "# print(type('5' *2))\n",
    "# print(type('5' + '2'))\n",
    "# print(type(5/2))\n",
    "# print(type(5%2))\n",
    "# print(type({5, 2, 1}))\n",
    "# print( type(5==2))\n",
    "# print(type(math.pi))\n"
   ]
  },
  {
   "cell_type": "markdown",
   "id": "59eb8468-b43b-4b05-b5f9-d7f799976434",
   "metadata": {},
   "source": [
    "# Question 2 \n",
    "<b>Write (and evaluate) python expressions that answer these questions:<b>\n",
    "<b>a. How many letters are there in 'Supercalifragilisticexpialidocious'?<b>\n",
    "<b> b. Does 'Supercalifragilisticexpialidocious' contain 'ice' as a substring?<b>\n",
    "<b>c. Which of the following words is the longest:\n",
    "Supercalifragilisticexpialidocious, Honorificabilitudinitatibus, or\n",
    "Bababadalgharaghtakamminarronnkonn?<b>\n",
    "<b>d. Which composer comes first in the dictionary: 'Berlioz', 'Borodin', 'Brian',\n",
    "'Bartok', 'Bellini', 'Buxtehude', 'Bernstein'. Which one comes last?<b>"
   ]
  },
  {
   "cell_type": "code",
   "execution_count": 40,
   "id": "267a1cfd-f5f5-42a5-8954-b3f734045acd",
   "metadata": {},
   "outputs": [
    {
     "name": "stdout",
     "output_type": "stream",
     "text": [
      "Number of total letters: 34\n",
      "Yes, 'ice' is a substring of string.\n",
      "Longest word: Supercalifragilisticexpialidocious\n",
      "First composer in the dictionary: Bartok\n",
      "Last composer in the dictionary: Buxtehude\n"
     ]
    }
   ],
   "source": [
    "\n",
    "#A\n",
    "word = 'Supercalifragilisticexpialidocious'\n",
    "total_letters = len(word)\n",
    "print(\"Number of total letters:\", letters)\n",
    "\n",
    "# b. Does 'Supercalifragilisticexpialidocious' contain 'ice' as a substring?\n",
    "string = 'Supercalifragilisticexpialidocious'\n",
    "substring = 'ice'\n",
    "\n",
    "if substring in string:\n",
    "    print(\"Yes, 'ice' is a substring of string.\")\n",
    "else:\n",
    "    print(\"No, 'ice' is not a substring of string.\")\n",
    "\n",
    "\n",
    "words = ['Supercalifragilisticexpialidocious', 'Honorificabilitudinitatibus', 'Bababadalgharaghtakamminarronnkonn']\n",
    "longest_word = max(words, key=len)\n",
    "print(\"Longest word:\", longest_word)\n",
    "\n",
    "composers = ['Berlioz', 'Borodin', 'Brian', 'Bartok', 'Bellini', 'Buxtehude', 'Bernstein']\n",
    "composers.sort()\n",
    "first_in_dictionary = composers[0]\n",
    "last_in_dictionary = composers[-1]\n",
    "print(\"First composer in the dictionary:\", first_in_dictionary)\n",
    "print(\"Last composer in the dictionary:\", last_in_dictionary)\n",
    "\n",
    "\n"
   ]
  },
  {
   "cell_type": "markdown",
   "id": "ba3e7345-bc44-44e4-82ff-eecb67f2bbf1",
   "metadata": {},
   "source": [
    "# Question 3\n",
    "<b> Implement function triangleArea(a,b,c) that takes as input the lengths of the 3\n",
    "sides of a triangle and returns the area of the triangle. By Heron's formula, the area\n",
    "of a triangle with side lengths a, b, and c is\n",
    "s(s - a)(s -b)(s -c)\n",
    ", where\n",
    "s = (a+b+c)/2. <b>"
   ]
  },
  {
   "cell_type": "code",
   "execution_count": 28,
   "id": "9719b18d-2d84-44a3-9aaa-8f3a474a4d51",
   "metadata": {},
   "outputs": [
    {
     "name": "stdout",
     "output_type": "stream",
     "text": [
      "1.7320508075688772\n"
     ]
    }
   ],
   "source": [
    "import math \n",
    "def triangleArea(a, b, c):\n",
    "    # Calculate semi-perimeter\n",
    "    s = (a + b + c) / 2\n",
    "    # Calculate area using Heron's formula\n",
    "    area = math.sqrt(s * (s - a) * (s - b) * (s - c))\n",
    "    return area\n",
    "\n",
    "print(triangleArea(2,2,2))"
   ]
  },
  {
   "cell_type": "markdown",
   "id": "db4e8a35-7e5e-43cd-9af1-2c338733cb22",
   "metadata": {},
   "source": [
    "# Question 4\n",
    "<b> Write a program in python to separate odd and even integers in separate arrays. Go\n",
    "to the editor\n",
    " <b>"
   ]
  },
  {
   "cell_type": "code",
   "execution_count": 34,
   "id": "77d2838a-0288-43f0-8fb5-1b518e4d55c1",
   "metadata": {},
   "outputs": [
    {
     "name": "stdin",
     "output_type": "stream",
     "text": [
      "Input the number of elements to be stored in the array:  5\n",
      "Element - 0:  25\n",
      "Element - 1:  47\n",
      "Element - 2:  42\n",
      "Element - 3:  56\n",
      "Element - 4:  32\n"
     ]
    },
    {
     "name": "stdout",
     "output_type": "stream",
     "text": [
      "Odd numbers: [25, 47]\n",
      "Even numbers: [42, 56, 32]\n"
     ]
    }
   ],
   "source": [
    "def separate_odd_even(arr):\n",
    "    odd_numbers = []\n",
    "    even_numbers = []\n",
    "    for num in arr:\n",
    "        if num % 2 == 0:\n",
    "            even_numbers.append(num)\n",
    "        else:\n",
    "            odd_numbers.append(num)\n",
    "    return odd_numbers, even_numbers\n",
    "\n",
    "# Input the number of elements\n",
    "num_elements = int(input(\"Input the number of elements to be stored in the array: \"))\n",
    "\n",
    "# Input the elements into the array\n",
    "arr = []\n",
    "for i in range(num_elements):\n",
    "    element = int(input(f\"Element - {i}: \"))\n",
    "    arr.append(element)\n",
    "\n",
    "# Separate odd and even integers\n",
    "odd, even = separate_odd_even(arr)\n",
    "\n",
    "# Display the results\n",
    "print(\"Odd numbers:\", odd)\n",
    "print(\"Even numbers:\", even)"
   ]
  },
  {
   "cell_type": "markdown",
   "id": "650d4994-6839-4306-af87-66d9680faa8a",
   "metadata": {},
   "source": [
    "# question 5\n",
    "<b> a. Write a function inside(x,y,x1,y1,x2,y2) that returns True or False\n",
    "depending on whether the point (x,y) lies in the rectangle with lower left\n",
    "corner (x1,y1) and upper right corner (x2,y2).<b>\n",
    "<b>b. Use function inside() from part a. to write an expression that tests whether\n",
    "the point (1,1) lies in both of the following rectangles: one with lower left\n",
    "corner (0.3, 0.5) and upper right corner (1.1, 0.7) and the other with lower\n",
    "left corner (0.5, 0.2) and upper right corner (1.1, 2)  <b>"
   ]
  },
  {
   "cell_type": "code",
   "execution_count": 36,
   "id": "72309b78-50f9-44e1-bd25-8fa782cb8a96",
   "metadata": {},
   "outputs": [
    {
     "name": "stdout",
     "output_type": "stream",
     "text": [
      "True\n",
      "False\n",
      "Point (1,1) lies in both rectangles: False\n"
     ]
    }
   ],
   "source": [
    "def inside(x, y, x1, y1, x2, y2):\n",
    "    return x1 <= x <= x2 and y1 <= y <= y2\n",
    "\n",
    "# for Answer a\n",
    "print(inside(1, 1, 0, 0, 2, 3))  # True\n",
    "print(inside(-1, -1, 0, 0, 2, 3)) # False \n",
    "\n",
    "# for Answer b\n",
    "# Test whether point (1,1) lies in both rectangles\n",
    "r1 = inside(1, 1, 0.3, 0.5, 1.1, 0.7)\n",
    "r2 = inside(1, 1, 0.5, 0.2, 1.1, 2)\n",
    "\n",
    "print(\"Point (1,1) lies in both rectangles:\", r1 and r2)"
   ]
  },
  {
   "cell_type": "markdown",
   "id": "df887f6e-3da4-49cb-b0b2-a32b3adf772e",
   "metadata": {},
   "source": [
    "# Question 6\n",
    "<b> You can turn a word into pig-Latin using the following two rules (simplified):\r\n",
    "• If the word starts with a consonant, move that letter to the end and append\r\n",
    "'ay'. For example, 'happy' becomes 'appyhay' and 'pencil' becomes 'encilpay'.\r\n",
    "• If the word starts with a vowel, simply append 'way' to the end of the word.\r\n",
    "For example, 'enter' becomes 'enterway' and 'other' becomes 'otherway' . For\r\n",
    "our purposes, there are 5 vowels: a, e, i, o, u (so we count y as a consonant).\r\n",
    "Write a function pig() that takes a word (i.e., a string) as input and returns its pigLatin form. Your function should still work if the input word contains upper case\r\n",
    "chara<b>wever. "
   ]
  },
  {
   "cell_type": "code",
   "execution_count": 26,
   "id": "afd2f268-e19a-43be-b8d2-3a53da1a8250",
   "metadata": {},
   "outputs": [
    {
     "name": "stdout",
     "output_type": "stream",
     "text": [
      "appyhay\n",
      "enterway\n"
     ]
    }
   ],
   "source": [
    " def pig(word):\n",
    "     vowels = ('a', 'e', 'i', 'o', 'u')\n",
    "     word = word.lower() #convert word to lowercase\n",
    "\n",
    "     if word[0] in vowels:\n",
    "       return word + 'way'\n",
    "     else:\n",
    "       return word[1:] + word[0] + 'ay'\n",
    "\n",
    "print(pig('happy'))\n",
    "print(pig('Enter'))\n",
    "\n",
    "\n",
    "\n",
    "\n",
    "     "
   ]
  },
  {
   "cell_type": "markdown",
   "id": "8108bb00-b306-4469-860d-a90519c8492c",
   "metadata": {},
   "source": [
    "# Question 7\n",
    "<b>File bloodtype1.txt records blood-types of patients (A, B, AB, O or OO) at a clinic.\r\n",
    "Write a function bldcount() that reads the file with name name and reports (i.e.,\r\n",
    "prints) how many patients there are in each bloodtyp<b>e.\r"
   ]
  },
  {
   "cell_type": "code",
   "execution_count": 40,
   "id": "10284972-d576-47f1-8a86-fab52034abb8",
   "metadata": {},
   "outputs": [
    {
     "name": "stdout",
     "output_type": "stream",
     "text": [
      "There are 15 patients of blood type A.\n",
      "There is one patient of blood type B.\n",
      "There are 13 patients of blood type AB.\n",
      "There are 15 patients of blood type O.\n",
      "There are no patients of blood type OO.\n"
     ]
    }
   ],
   "source": [
    "def bldcount(filebookname):\n",
    "    # Define a dictionary to store the counts of each blood type\n",
    "    blood_count = {'A': 0, 'B': 0, 'AB': 0, 'O': 0, 'OO': 0}\n",
    "\n",
    "    # Open the file and read each line\n",
    "    with open(filebookname, 'r') as file:\n",
    "        for line in file:\n",
    "            # Strip whitespace and split the line by spaces\n",
    "            blood_type = line.strip().split()\n",
    "\n",
    "            # Increment the count for the blood type in the dictionary\n",
    "            for bt in blood_type:\n",
    "                blood_count[bt] += 1\n",
    "\n",
    "    # Print the counts for each blood type\n",
    "    for bt, count in blood_count.items():\n",
    "        if count == 1:\n",
    "            print(f\"There is one patient of blood type {bt}.\")\n",
    "        elif count > 1:\n",
    "            print(f\"There are {count} patients of blood type {bt}.\")\n",
    "        else:\n",
    "            print(f\"There are no patients of blood type {bt}.\")\n",
    "\n",
    "# Example usage\n",
    "bldcount('filebookname.txt') \n",
    "\n",
    "\n"
   ]
  },
  {
   "cell_type": "markdown",
   "id": "d0d862ee-5e45-413e-9d07-013aec71bd3b",
   "metadata": {},
   "source": [
    "# Question 8\n",
    "<b> Write a function curconv() that takes as input:\r",
    "<b> \n",
    "1. a currency represented using a string (e.g., 'JPY' for the Japanese Yen or\r\n",
    "'EUR' for the Euro<b> )\r\n",
    "2. an amount\r\n",
    "and then converts and returns the amount in US dol<b>lars"
   ]
  },
  {
   "cell_type": "code",
   "execution_count": 44,
   "id": "8effd03e-0610-42b3-8e5d-93a37cd81a84",
   "metadata": {},
   "outputs": [
    {
     "name": "stdout",
     "output_type": "stream",
     "text": [
      "122.96544\n",
      "1.241401\n"
     ]
    }
   ],
   "source": [
    "def curconv(currency, amount):\n",
    "    # Dictionary to store currency rates\n",
    "    currency_rates = {}\n",
    "\n",
    "    # Read currency rates from file and populate the dictionary\n",
    "    with open('currency.txt', 'r') as file:\n",
    "        for line in file:\n",
    "            parts = line.split()\n",
    "            currency_rates[parts[0]] = float(parts[1])\n",
    "\n",
    "    # Convert the amount to USD\n",
    "    if currency in currency_rates:\n",
    "        return amount * currency_rates[currency]\n",
    "    else:\n",
    "        return \"Currency not found in the file.\"\n",
    "\n",
    "#example usages\n",
    "print(curconv('EUR', 100))  \n",
    "print(curconv('JPY', 100))  \n"
   ]
  },
  {
   "cell_type": "markdown",
   "id": "d8057101-91b5-4705-a9b6-65146b05c49f",
   "metadata": {},
   "source": [
    "# Question 9\n",
    "<b>Each of the following will cause an exception (an error). Identify what type of\r\n",
    "exception each will cause.\r\n",
    "Trying to add incompatible variables, as in\r\n",
    "adding 6 + ‘a’\r\n",
    "Referring to the 12th item of a list that has only 10\r\n",
    "items\r\n",
    "Using a value that is out of range for a function’s\r\n",
    "input, such as calling math.sqrt(-1.0)\r\n",
    "Using an undeclared variable, such as print(x)\r\n",
    "when x has not been defined\r\n",
    "Trying to open a file that does not exist, such as\r\n",
    "mistyping the file name or looking in the wrong<b>\n",
    "directory. \n"
   ]
  },
  {
   "cell_type": "code",
   "execution_count": 48,
   "id": "09cef414-5ce1-4e35-80de-f1f34b8af054",
   "metadata": {},
   "outputs": [
    {
     "ename": "SyntaxError",
     "evalue": "invalid character '‘' (U+2018) (4191211639.py, line 1)",
     "output_type": "error",
     "traceback": [
      "\u001b[1;36m  Cell \u001b[1;32mIn[48], line 1\u001b[1;36m\u001b[0m\n\u001b[1;33m    print(6 + ‘a’)\u001b[0m\n\u001b[1;37m              ^\u001b[0m\n\u001b[1;31mSyntaxError\u001b[0m\u001b[1;31m:\u001b[0m invalid character '‘' (U+2018)\n"
     ]
    }
   ],
   "source": [
    "print(6 + ‘a’)"
   ]
  },
  {
   "cell_type": "code",
   "execution_count": 55,
   "id": "203b073c-1b7d-48d1-9615-b0b2d14b3e46",
   "metadata": {},
   "outputs": [
    {
     "ename": "IndexError",
     "evalue": "list index out of range",
     "output_type": "error",
     "traceback": [
      "\u001b[1;31m---------------------------------------------------------------------------\u001b[0m",
      "\u001b[1;31mIndexError\u001b[0m                                Traceback (most recent call last)",
      "Cell \u001b[1;32mIn[55], line 2\u001b[0m\n\u001b[0;32m      1\u001b[0m my_list \u001b[38;5;241m=\u001b[39m [\u001b[38;5;241m1\u001b[39m, \u001b[38;5;241m2\u001b[39m, \u001b[38;5;241m3\u001b[39m, \u001b[38;5;241m4\u001b[39m, \u001b[38;5;241m5\u001b[39m, \u001b[38;5;241m6\u001b[39m, \u001b[38;5;241m7\u001b[39m, \u001b[38;5;241m8\u001b[39m, \u001b[38;5;241m9\u001b[39m, \u001b[38;5;241m10\u001b[39m] \n\u001b[1;32m----> 2\u001b[0m item \u001b[38;5;241m=\u001b[39m my_list[\u001b[38;5;241m11\u001b[39m]\n",
      "\u001b[1;31mIndexError\u001b[0m: list index out of range"
     ]
    }
   ],
   "source": [
    "my_list = [1, 2, 3, 4, 5, 6, 7, 8, 9, 10] \n",
    "item = my_list[11]\n"
   ]
  },
  {
   "cell_type": "code",
   "execution_count": 57,
   "id": "ecbffa4e-9755-4410-9e65-2656ccf7720d",
   "metadata": {},
   "outputs": [
    {
     "name": "stdout",
     "output_type": "stream",
     "text": [
      "Error: math domain error\n"
     ]
    }
   ],
   "source": [
    "import math\n",
    "\n",
    "try:\n",
    "    result = math.sqrt(-1.0)\n",
    "except ValueError as e:\n",
    "    print(\"Error:\", e)\n",
    "    "
   ]
  },
  {
   "cell_type": "code",
   "execution_count": 58,
   "id": "86594b73-e864-4f5e-bbd7-84566055b848",
   "metadata": {},
   "outputs": [
    {
     "name": "stdout",
     "output_type": "stream",
     "text": [
      "Error: name 'x' is not defined\n"
     ]
    }
   ],
   "source": [
    "try:\n",
    "    print(x)\n",
    "except NameError as e:\n",
    "    print(\"Error:\", e)"
   ]
  },
  {
   "cell_type": "code",
   "execution_count": 59,
   "id": "ce9913d0-45c7-464d-a9cc-9a93e2b0cfac",
   "metadata": {},
   "outputs": [
    {
     "name": "stdout",
     "output_type": "stream",
     "text": [
      "Error: [Errno 2] No such file or directory: 'nonexistent_file.txt'\n"
     ]
    }
   ],
   "source": [
    "try:\n",
    "    with open('nonexistent_file.txt', 'r') as file:\n",
    "        content = file.read()\n",
    "except FileNotFoundError as e:\n",
    "    print(\"Error:\", e)"
   ]
  },
  {
   "cell_type": "markdown",
   "id": "7a1b561f-6b63-48f7-b250-ca18637d519a",
   "metadata": {},
   "source": [
    "# Question 10\n",
    "<b>Encryption is the process of hiding the meaning of a text by substituting letters in the\r\n",
    "message with other letters, according to some system. If the process is successful, no\r\n",
    "one but the intended recipient can understand the encrypted message. Cryptanalysis\r\n",
    "refers to attempts to undo the encryption, even if some details of the encryption are\r\n",
    "unknown (for example, if an encrypted message has been intercepted). The first step\r\n",
    "of cryptanalysis is often to build up a table of letter frequencies in the encrypted text.\r\n",
    "Assume that the string letters is already defined as\r\n",
    "'abcdefghijklmnopqrstuvwxyz'. Write a function called frequencies()\r\n",
    "that takes a string as its only parameter, and returns a list of integers, showing the\r\n",
    "number of times each character appears in the text. Your function may ignore any\r\n",
    "characters that are not i<b>n letters."
   ]
  },
  {
   "cell_type": "code",
   "execution_count": 46,
   "id": "19fd8f19-c3c1-498b-9bf5-0a4ea3b28007",
   "metadata": {},
   "outputs": [
    {
     "name": "stdout",
     "output_type": "stream",
     "text": [
      "[1, 1, 1, 3, 5, 1, 1, 2, 1, 0, 1, 0, 1, 2, 4, 0, 1, 2, 0, 3, 1, 0, 1, 1, 0, 0]\n",
      "[1, 0, 0, 0, 1, 0, 0, 0, 0, 0, 0, 1, 0, 0, 0, 2, 0, 0, 0, 0, 0, 0, 0, 0, 0, 0]\n"
     ]
    }
   ],
   "source": [
    "def frequencies(text):\n",
    "    # Define the string of letters\n",
    "    letters = 'abcdefghijklmnopqrstuvwxyz'\n",
    "    \n",
    "    # Initialize a list to store the frequencies\n",
    "    freqency_list = [0] * 26\n",
    "    \n",
    "    # Convert text to lowercase to handle case insensitivity\n",
    "    text = text.lower()\n",
    "    \n",
    "    # Iterate over each character in the text\n",
    "    for char in text:\n",
    "        # Check if the character is a letter\n",
    "        if char in letters:\n",
    "            # Increment the corresponding index in the frequency list\n",
    "            index = letters.index(char)\n",
    "            freqency_list[index] += 1\n",
    "    \n",
    "    return freqency_list\n",
    "\n",
    "# test example\n",
    "print(frequencies('The quick red fox got bored and went home.'))\n",
    "print(frequencies('apple'))"
   ]
  }
 ],
 "metadata": {
  "kernelspec": {
   "display_name": "Python 3 (ipykernel)",
   "language": "python",
   "name": "python3"
  },
  "language_info": {
   "codemirror_mode": {
    "name": "ipython",
    "version": 3
   },
   "file_extension": ".py",
   "mimetype": "text/x-python",
   "name": "python",
   "nbconvert_exporter": "python",
   "pygments_lexer": "ipython3",
   "version": "3.11.7"
  }
 },
 "nbformat": 4,
 "nbformat_minor": 5
}
